{
 "cells": [
  {
   "cell_type": "markdown",
   "metadata": {},
   "source": [
    "# Rhetoric Lab: Starter Notebook\n",
    "Use this notebook to run the pipeline step-by-step on your local documents."
   ]
  },
  {
   "cell_type": "code",
   "execution_count": null,
   "metadata": {},
   "outputs": [],
   "source": [
    "import sys, os, json, pandas as pd\n",
    "sys.path.append('src')\n",
    "from rhetoric_lab.ingest import ingest_corpus\n",
    "from rhetoric_lab.preprocess import TextPreprocessor\n",
    "from rhetoric_lab.analyze import Analyzer\n",
    "from rhetoric_lab.visualize import plot_term_trends\n",
    "from rhetoric_lab.kwic import kwic_concordance"
   ]
  },
  {
   "cell_type": "code",
   "execution_count": null,
   "metadata": {},
   "outputs": [],
   "source": [
    "input_root = 'data/raw'\n",
    "processed_root = 'data/processed'\n",
    "outputs_root = 'outputs'"
   ]
  },
  {
   "cell_type": "code",
   "execution_count": null,
   "metadata": {},
   "outputs": [],
   "source": [
    "ingest_corpus(input_root, processed_root)"
   ]
  },
  {
   "cell_type": "code",
   "execution_count": null,
   "metadata": {},
   "outputs": [],
   "source": [
    "tp = TextPreprocessor(use_spacy=True, lemmatize=True, extra_stopwords_path='src/rhetoric_lab/stopwords_extra.txt')\n",
    "tp.save_tokens(processed_root)"
   ]
  },
  {
   "cell_type": "code",
   "execution_count": null,
   "metadata": {},
   "outputs": [],
   "source": [
    "an = Analyzer(processed_root, outputs_root, min_count=5, max_ngram=3)\n",
    "tables = an.build_tables()\n",
    "list(tables.keys())"
   ]
  },
  {
   "cell_type": "code",
   "execution_count": null,
   "metadata": {},
   "outputs": [],
   "source": [
    "plot = plot_term_trends('outputs/tables', term='economic freedom', outputs_root='outputs/figures', ngram=True)\n",
    "plot"
   ]
  },
  {
   "cell_type": "code",
   "execution_count": null,
   "metadata": {},
   "outputs": [],
   "source": [
    "df_kwic = kwic_concordance(processed_root, term='personal responsibility', window=12, limit=50, out_csv='outputs/tables/kwic.csv')\n",
    "df_kwic.head()"
   ]
  }
 ]
}